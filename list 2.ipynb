{
 "cells": [
  {
   "cell_type": "markdown",
   "id": "4c3df97f-e785-4d9c-b63d-86dc8e8e6600",
   "metadata": {},
   "source": [
    "# slicing of list"
   ]
  },
  {
   "cell_type": "code",
   "execution_count": 1,
   "id": "c300b6f6-6132-4a94-9880-fa98f982cf62",
   "metadata": {},
   "outputs": [],
   "source": [
    "l = [1,2,3,4,5,6,7,8]   #slice the list from 1 to 4"
   ]
  },
  {
   "cell_type": "code",
   "execution_count": 3,
   "id": "b03a3301-7bdd-4fdb-bcea-9d7cb2eeaee8",
   "metadata": {},
   "outputs": [
    {
     "data": {
      "text/plain": [
       "[1, 2, 3, 4]"
      ]
     },
     "execution_count": 3,
     "metadata": {},
     "output_type": "execute_result"
    }
   ],
   "source": [
    "l[0:4]         # start pont : end points next index no."
   ]
  },
  {
   "cell_type": "code",
   "execution_count": 5,
   "id": "92f76342-b851-4e53-bb0b-f139b59a0b19",
   "metadata": {},
   "outputs": [
    {
     "data": {
      "text/plain": [
       "[4, 5, 6]"
      ]
     },
     "execution_count": 5,
     "metadata": {},
     "output_type": "execute_result"
    }
   ],
   "source": [
    "l[3:6]"
   ]
  },
  {
   "cell_type": "code",
   "execution_count": 7,
   "id": "f6b72494-27b8-49e8-961f-e96de29534c6",
   "metadata": {},
   "outputs": [],
   "source": [
    "names =['om','sham','ram','suresh','ganesh']"
   ]
  },
  {
   "cell_type": "code",
   "execution_count": 9,
   "id": "de501b57-a587-4e9b-9b2b-dd74a4e2bda7",
   "metadata": {},
   "outputs": [
    {
     "data": {
      "text/plain": [
       "['sham', 'ram', 'suresh']"
      ]
     },
     "execution_count": 9,
     "metadata": {},
     "output_type": "execute_result"
    }
   ],
   "source": [
    "names[1:4]"
   ]
  },
  {
   "cell_type": "code",
   "execution_count": 11,
   "id": "68197f41-fd72-40a4-8732-3834e91fdb55",
   "metadata": {},
   "outputs": [
    {
     "data": {
      "text/plain": [
       "['om', 'sham', 'ram']"
      ]
     },
     "execution_count": 11,
     "metadata": {},
     "output_type": "execute_result"
    }
   ],
   "source": [
    "names[0:3]"
   ]
  },
  {
   "cell_type": "code",
   "execution_count": 13,
   "id": "f3d33199-a5af-41fb-8992-8f8944404ca0",
   "metadata": {},
   "outputs": [
    {
     "data": {
      "text/plain": [
       "['ram', 'suresh', 'ganesh']"
      ]
     },
     "execution_count": 13,
     "metadata": {},
     "output_type": "execute_result"
    }
   ],
   "source": [
    "names[2:5]"
   ]
  },
  {
   "cell_type": "code",
   "execution_count": 15,
   "id": "d5135f33-2227-495b-97cb-d0408051863c",
   "metadata": {},
   "outputs": [
    {
     "data": {
      "text/plain": [
       "[1, 2, 3, 4, 5, 6, 7, 8]"
      ]
     },
     "execution_count": 15,
     "metadata": {},
     "output_type": "execute_result"
    }
   ],
   "source": [
    "l"
   ]
  },
  {
   "cell_type": "code",
   "execution_count": 17,
   "id": "1108f7ce-793f-4523-b621-c45771bf9e76",
   "metadata": {},
   "outputs": [
    {
     "data": {
      "text/plain": [
       "[3, 4, 5, 6]"
      ]
     },
     "execution_count": 17,
     "metadata": {},
     "output_type": "execute_result"
    }
   ],
   "source": [
    "l[2:6]"
   ]
  },
  {
   "cell_type": "code",
   "execution_count": 19,
   "id": "732840c5-a732-43ea-b9cd-2f643bf38cac",
   "metadata": {},
   "outputs": [
    {
     "data": {
      "text/plain": [
       "[1, 2, 3, 4]"
      ]
     },
     "execution_count": 19,
     "metadata": {},
     "output_type": "execute_result"
    }
   ],
   "source": [
    "l[0:4]"
   ]
  },
  {
   "cell_type": "code",
   "execution_count": 21,
   "id": "f5126b15-22bf-48f8-97b9-04cf34e28984",
   "metadata": {},
   "outputs": [
    {
     "data": {
      "text/plain": [
       "[1, 3, 5]"
      ]
     },
     "execution_count": 21,
     "metadata": {},
     "output_type": "execute_result"
    }
   ],
   "source": [
    "l[0:6:2]    # start pont :end points next index no.:jump"
   ]
  },
  {
   "cell_type": "code",
   "execution_count": 23,
   "id": "5892eafb-015e-4a14-9e28-a4bd35c6dbd0",
   "metadata": {},
   "outputs": [
    {
     "data": {
      "text/plain": [
       "[1, 3, 5, 7]"
      ]
     },
     "execution_count": 23,
     "metadata": {},
     "output_type": "execute_result"
    }
   ],
   "source": [
    "l[0:8:2]"
   ]
  },
  {
   "cell_type": "code",
   "execution_count": 25,
   "id": "1cee2b90-8262-4641-bccb-3e3a9e0b12f6",
   "metadata": {},
   "outputs": [
    {
     "data": {
      "text/plain": [
       "[2, 3, 4, 5, 6, 7, 8]"
      ]
     },
     "execution_count": 25,
     "metadata": {},
     "output_type": "execute_result"
    }
   ],
   "source": [
    "l[1:]"
   ]
  },
  {
   "cell_type": "code",
   "execution_count": 27,
   "id": "93ebb9cc-bfbb-4739-a10d-eff2abcdf2bc",
   "metadata": {},
   "outputs": [
    {
     "data": {
      "text/plain": [
       "[2, 4, 6, 8]"
      ]
     },
     "execution_count": 27,
     "metadata": {},
     "output_type": "execute_result"
    }
   ],
   "source": [
    "l[1: :2]"
   ]
  },
  {
   "cell_type": "code",
   "execution_count": 29,
   "id": "dca31cf3-a0d6-4c5c-9a6e-9e61a41e04bb",
   "metadata": {},
   "outputs": [
    {
     "data": {
      "text/plain": [
       "[1, 4, 7]"
      ]
     },
     "execution_count": 29,
     "metadata": {},
     "output_type": "execute_result"
    }
   ],
   "source": [
    "l[ : :3]"
   ]
  },
  {
   "cell_type": "code",
   "execution_count": null,
   "id": "a5591b27-8d21-46cf-86e9-133ebb164cf6",
   "metadata": {},
   "outputs": [],
   "source": [
    "l[7]"
   ]
  }
 ],
 "metadata": {
  "kernelspec": {
   "display_name": "Python 3 (ipykernel)",
   "language": "python",
   "name": "python3"
  },
  "language_info": {
   "codemirror_mode": {
    "name": "ipython",
    "version": 3
   },
   "file_extension": ".py",
   "mimetype": "text/x-python",
   "name": "python",
   "nbconvert_exporter": "python",
   "pygments_lexer": "ipython3",
   "version": "3.12.7"
  }
 },
 "nbformat": 4,
 "nbformat_minor": 5
}
