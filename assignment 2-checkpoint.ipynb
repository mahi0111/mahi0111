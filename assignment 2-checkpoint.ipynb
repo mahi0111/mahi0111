{
 "cells": [
  {
   "cell_type": "raw",
   "id": "752dbe72-d64c-4314-9df8-0ce46b4478d8",
   "metadata": {},
   "source": [
    "Python basics and data types"
   ]
  },
  {
   "cell_type": "markdown",
   "id": "d3a472cc-9a1e-47c3-bbc3-52e9e0846907",
   "metadata": {},
   "source": [
    "1. Variable Manipulation\n",
    "    a. Define variables to store students name, age ,GPA,\n",
    "       and list of objects.\n",
    "    "
   ]
  },
  {
   "cell_type": "code",
   "execution_count": 1,
   "id": "d3778350-2501-4053-8fe6-dfef46ba5baa",
   "metadata": {},
   "outputs": [],
   "source": [
    "name = 'amruta'"
   ]
  },
  {
   "cell_type": "code",
   "execution_count": 3,
   "id": "ba500a62-ba85-4737-818e-b53c4bebddd0",
   "metadata": {},
   "outputs": [
    {
     "data": {
      "text/plain": [
       "'amruta'"
      ]
     },
     "execution_count": 3,
     "metadata": {},
     "output_type": "execute_result"
    }
   ],
   "source": [
    "name"
   ]
  },
  {
   "cell_type": "code",
   "execution_count": 5,
   "id": "2d905f10-7a31-4504-8494-f28c5b7e1acf",
   "metadata": {},
   "outputs": [
    {
     "data": {
      "text/plain": [
       "str"
      ]
     },
     "execution_count": 5,
     "metadata": {},
     "output_type": "execute_result"
    }
   ],
   "source": [
    "type(name)"
   ]
  },
  {
   "cell_type": "code",
   "execution_count": 7,
   "id": "d25d6755-a45f-48df-8cfe-ecbd13a2140f",
   "metadata": {},
   "outputs": [],
   "source": [
    "age = 29"
   ]
  },
  {
   "cell_type": "code",
   "execution_count": 9,
   "id": "b78171b6-7e83-460e-96a5-0b8d850cc8e5",
   "metadata": {},
   "outputs": [
    {
     "data": {
      "text/plain": [
       "29"
      ]
     },
     "execution_count": 9,
     "metadata": {},
     "output_type": "execute_result"
    }
   ],
   "source": [
    "age"
   ]
  },
  {
   "cell_type": "code",
   "execution_count": 11,
   "id": "fc0554bb-3ffb-4d80-bbc5-854234b35922",
   "metadata": {},
   "outputs": [
    {
     "data": {
      "text/plain": [
       "int"
      ]
     },
     "execution_count": 11,
     "metadata": {},
     "output_type": "execute_result"
    }
   ],
   "source": [
    "type (age)"
   ]
  },
  {
   "cell_type": "code",
   "execution_count": 13,
   "id": "10d96042-e63c-46fb-9220-984b93f9fa42",
   "metadata": {},
   "outputs": [],
   "source": [
    "GPA = 8.9"
   ]
  },
  {
   "cell_type": "code",
   "execution_count": 15,
   "id": "e68ddf70-711c-4fa2-868f-80db8ff82946",
   "metadata": {},
   "outputs": [
    {
     "data": {
      "text/plain": [
       "float"
      ]
     },
     "execution_count": 15,
     "metadata": {},
     "output_type": "execute_result"
    }
   ],
   "source": [
    "type(GPA)"
   ]
  },
  {
   "cell_type": "code",
   "execution_count": 17,
   "id": "1f23b81f-7106-41b9-b4b3-8830179126b0",
   "metadata": {},
   "outputs": [],
   "source": [
    "subjects = ['maths','science', 'geology', 'english','biology']"
   ]
  },
  {
   "cell_type": "code",
   "execution_count": 19,
   "id": "e6c749dc-9041-435b-847c-f8e7eb6ccd64",
   "metadata": {},
   "outputs": [
    {
     "data": {
      "text/plain": [
       "['maths', 'science', 'geology', 'english', 'biology']"
      ]
     },
     "execution_count": 19,
     "metadata": {},
     "output_type": "execute_result"
    }
   ],
   "source": [
    "subjects"
   ]
  },
  {
   "cell_type": "code",
   "execution_count": 21,
   "id": "558e5a83-fa04-4a66-94ea-b79575886171",
   "metadata": {},
   "outputs": [
    {
     "data": {
      "text/plain": [
       "list"
      ]
     },
     "execution_count": 21,
     "metadata": {},
     "output_type": "execute_result"
    }
   ],
   "source": [
    "type(subjects)"
   ]
  },
  {
   "cell_type": "markdown",
   "id": "ef46484c-8cf1-4fcd-b4d3-d6e23b1a54f7",
   "metadata": {},
   "source": [
    "2. Convert age from years to months and display the result"
   ]
  },
  {
   "cell_type": "code",
   "execution_count": 32,
   "id": "12c19519-8e21-48bf-9d58-3818a7b32858",
   "metadata": {},
   "outputs": [
    {
     "ename": "SyntaxError",
     "evalue": "invalid syntax (2497074437.py, line 1)",
     "output_type": "error",
     "traceback": [
      "\u001b[1;36m  Cell \u001b[1;32mIn[32], line 1\u001b[1;36m\u001b[0m\n\u001b[1;33m    age = '29'years\u001b[0m\n\u001b[1;37m              ^\u001b[0m\n\u001b[1;31mSyntaxError\u001b[0m\u001b[1;31m:\u001b[0m invalid syntax\n"
     ]
    }
   ],
   "source": [
    "age = '29'years"
   ]
  },
  {
   "cell_type": "code",
   "execution_count": 30,
   "id": "45407af0-8cf9-4672-bb5f-eaf47278948a",
   "metadata": {},
   "outputs": [
    {
     "data": {
      "text/plain": [
       "29"
      ]
     },
     "execution_count": 30,
     "metadata": {},
     "output_type": "execute_result"
    }
   ],
   "source": [
    "age"
   ]
  },
  {
   "cell_type": "code",
   "execution_count": 34,
   "id": "e9cd804f-940f-4571-8227-435e4173cb0b",
   "metadata": {},
   "outputs": [
    {
     "data": {
      "text/plain": [
       "348"
      ]
     },
     "execution_count": 34,
     "metadata": {},
     "output_type": "execute_result"
    }
   ],
   "source": [
    "29 * 12 "
   ]
  },
  {
   "cell_type": "code",
   "execution_count": 36,
   "id": "bc28be09-5f15-4342-bcf2-1297938058c8",
   "metadata": {},
   "outputs": [
    {
     "data": {
      "text/plain": [
       "348"
      ]
     },
     "execution_count": 36,
     "metadata": {},
     "output_type": "execute_result"
    }
   ],
   "source": [
    "age * 12"
   ]
  },
  {
   "cell_type": "markdown",
   "id": "83ac02a6-0bdc-454f-806b-9df9ecfc4096",
   "metadata": {},
   "source": [
    "3. concatenate and print a sentences using all the defined      variables."
   ]
  },
  {
   "cell_type": "markdown",
   "id": "5ddd4583-5c2d-4fae-b306-bb675445039b",
   "metadata": {},
   "source": [
    "Data stuructures - liss, tuples and dictionary\n",
    "\n",
    "   A) WORKING WITH LISTS\n",
    "       create a lists of integers and \n",
    "       1.append a new number.\n",
    "       2.insert a number at specific index.\n",
    "       3.remove duplicates and print the final list"
   ]
  },
  {
   "cell_type": "code",
   "execution_count": 42,
   "id": "3bffa8de-98ca-47dd-9bf1-ef3319906655",
   "metadata": {},
   "outputs": [],
   "source": [
    "l = [2,2,3,3,3,4,5,6,6,6]"
   ]
  },
  {
   "cell_type": "code",
   "execution_count": 44,
   "id": "c20d71ce-2693-444c-a70e-c827761f29aa",
   "metadata": {},
   "outputs": [
    {
     "data": {
      "text/plain": [
       "[2, 2, 3, 3, 3, 4, 5, 6, 6, 6]"
      ]
     },
     "execution_count": 44,
     "metadata": {},
     "output_type": "execute_result"
    }
   ],
   "source": [
    "l"
   ]
  },
  {
   "cell_type": "code",
   "execution_count": 58,
   "id": "3880c7d6-916f-4ee2-bfcc-e050f69c6e71",
   "metadata": {},
   "outputs": [],
   "source": [
    "l.append(60)"
   ]
  },
  {
   "cell_type": "code",
   "execution_count": 60,
   "id": "acacb692-87fc-4c8b-a3ba-a019b9ca02e9",
   "metadata": {},
   "outputs": [
    {
     "data": {
      "text/plain": [
       "[2, 2, 3, 3, 3, 4, 5, 6, 6, 6, 45, 60]"
      ]
     },
     "execution_count": 60,
     "metadata": {},
     "output_type": "execute_result"
    }
   ],
   "source": [
    "l"
   ]
  },
  {
   "cell_type": "code",
   "execution_count": 62,
   "id": "8aa5f216-edb0-4e80-b376-9a7a87b77bcb",
   "metadata": {},
   "outputs": [
    {
     "data": {
      "text/plain": [
       "3"
      ]
     },
     "execution_count": 62,
     "metadata": {},
     "output_type": "execute_result"
    }
   ],
   "source": [
    "l[3]"
   ]
  },
  {
   "cell_type": "code",
   "execution_count": 64,
   "id": "7e9d23d0-c1d7-4851-9cfa-23a802cd251a",
   "metadata": {},
   "outputs": [],
   "source": [
    "l[3] = 35 "
   ]
  },
  {
   "cell_type": "code",
   "execution_count": 66,
   "id": "f3975e8e-3b58-4c0d-bec8-9dd324ac65bd",
   "metadata": {},
   "outputs": [
    {
     "data": {
      "text/plain": [
       "[2, 2, 3, 35, 3, 4, 5, 6, 6, 6, 45, 60]"
      ]
     },
     "execution_count": 66,
     "metadata": {},
     "output_type": "execute_result"
    }
   ],
   "source": [
    "l"
   ]
  },
  {
   "cell_type": "code",
   "execution_count": 5,
   "id": "7c3d19db-8ebb-4c35-93f9-752e9e8b9bd6",
   "metadata": {},
   "outputs": [
    {
     "ename": "NameError",
     "evalue": "name 'l' is not defined",
     "output_type": "error",
     "traceback": [
      "\u001b[1;31m---------------------------------------------------------------------------\u001b[0m",
      "\u001b[1;31mNameError\u001b[0m                                 Traceback (most recent call last)",
      "Cell \u001b[1;32mIn[5], line 1\u001b[0m\n\u001b[1;32m----> 1\u001b[0m l\u001b[38;5;241m.\u001b[39mremove(\u001b[38;5;241m2\u001b[39m)\n",
      "\u001b[1;31mNameError\u001b[0m: name 'l' is not defined"
     ]
    }
   ],
   "source": [
    "l.remove(2)"
   ]
  },
  {
   "cell_type": "code",
   "execution_count": null,
   "id": "13f3df79-a8f4-498d-912d-014e69a8ef69",
   "metadata": {},
   "outputs": [],
   "source": []
  },
  {
   "cell_type": "code",
   "execution_count": null,
   "id": "6c0322f8-3f81-4131-b440-5d5caa27ec83",
   "metadata": {},
   "outputs": [],
   "source": [
    "Question NO.4\n",
    "\n",
    "  Operations:\n",
    "o Create two sets of random numbers.\n",
    "o Find and print their union, intersection, and difference.\n",
    "o Remove one element from the first set and add a new element.\n",
    "\n"
   ]
  },
  {
   "cell_type": "code",
   "execution_count": 16,
   "id": "c5396aef-e528-49e1-bf43-f7a723000dca",
   "metadata": {},
   "outputs": [],
   "source": [
    "set1 = {4,5,6,7,8,9}"
   ]
  },
  {
   "cell_type": "code",
   "execution_count": 20,
   "id": "1cabfb63-113a-4c22-8ea9-e7869c6f7343",
   "metadata": {},
   "outputs": [],
   "source": [
    "set2 ={7,8,10,11,12}"
   ]
  },
  {
   "cell_type": "code",
   "execution_count": 22,
   "id": "1448be32-07b6-4853-b178-69f7ae8d2360",
   "metadata": {},
   "outputs": [
    {
     "data": {
      "text/plain": [
       "{4, 5, 6, 7, 8, 9, 10, 11, 12}"
      ]
     },
     "execution_count": 22,
     "metadata": {},
     "output_type": "execute_result"
    }
   ],
   "source": [
    "set1.union(set2)"
   ]
  },
  {
   "cell_type": "code",
   "execution_count": 24,
   "id": "489d355d-122f-4a13-a901-1ec62cf5fbfb",
   "metadata": {},
   "outputs": [
    {
     "data": {
      "text/plain": [
       "{7, 8}"
      ]
     },
     "execution_count": 24,
     "metadata": {},
     "output_type": "execute_result"
    }
   ],
   "source": [
    "set1.intersection(set2)"
   ]
  },
  {
   "cell_type": "code",
   "execution_count": 28,
   "id": "6d34bb85-d9cf-4b67-987d-2727ec8e44eb",
   "metadata": {},
   "outputs": [
    {
     "data": {
      "text/plain": [
       "{4, 5, 6, 9}"
      ]
     },
     "execution_count": 28,
     "metadata": {},
     "output_type": "execute_result"
    }
   ],
   "source": [
    "set1.difference(set2)"
   ]
  },
  {
   "cell_type": "code",
   "execution_count": 30,
   "id": "52908484-c982-4100-b6d8-bd7fc60671f8",
   "metadata": {},
   "outputs": [
    {
     "data": {
      "text/plain": [
       "{10, 11, 12}"
      ]
     },
     "execution_count": 30,
     "metadata": {},
     "output_type": "execute_result"
    }
   ],
   "source": [
    "set2.difference(set1)"
   ]
  },
  {
   "cell_type": "markdown",
   "id": "3ad38592-1903-4fd2-a7ee-c2bc71219501",
   "metadata": {},
   "source": [
    "2. Tuple Manipulation:\n",
    "o Define a tuple of 5 colors.\n",
    "o Try to add a new color to the tuple (observe and explain why it fails).\n",
    "o Convert the tuple to a list, add the color, and convert it back to a tuple."
   ]
  },
  {
   "cell_type": "code",
   "execution_count": 7,
   "id": "34cbc884-8776-429b-abfa-ab8e5d25fa1d",
   "metadata": {},
   "outputs": [],
   "source": [
    "color =('red','blue','white','black')"
   ]
  },
  {
   "cell_type": "code",
   "execution_count": 9,
   "id": "716510a9-d868-4e00-ac97-d9c1eb0796c2",
   "metadata": {},
   "outputs": [
    {
     "data": {
      "text/plain": [
       "('red', 'blue', 'white', 'black')"
      ]
     },
     "execution_count": 9,
     "metadata": {},
     "output_type": "execute_result"
    }
   ],
   "source": [
    "color"
   ]
  },
  {
   "cell_type": "code",
   "execution_count": 15,
   "id": "57eadfd3-cc4e-40c8-b239-dc5add385e3a",
   "metadata": {},
   "outputs": [
    {
     "data": {
      "text/plain": [
       "tuple"
      ]
     },
     "execution_count": 15,
     "metadata": {},
     "output_type": "execute_result"
    }
   ],
   "source": [
    "type(color)"
   ]
  },
  {
   "cell_type": "code",
   "execution_count": 30,
   "id": "17aacd35-e3bd-482f-8ed6-a7b18fcd679f",
   "metadata": {},
   "outputs": [],
   "source": [
    " l = list(color)"
   ]
  },
  {
   "cell_type": "code",
   "execution_count": 36,
   "id": "cec48bc0-daea-4c0b-9049-b262f55dfe7d",
   "metadata": {},
   "outputs": [
    {
     "data": {
      "text/plain": [
       "['red', 'blue', 'white', 'black']"
      ]
     },
     "execution_count": 36,
     "metadata": {},
     "output_type": "execute_result"
    }
   ],
   "source": [
    "l"
   ]
  },
  {
   "cell_type": "code",
   "execution_count": 38,
   "id": "b4e19403-3bb9-48bd-964e-592d18bb4835",
   "metadata": {},
   "outputs": [],
   "source": [
    "l.append('pink')"
   ]
  },
  {
   "cell_type": "code",
   "execution_count": 40,
   "id": "28d26b27-6905-4220-9d9f-887a32cd6264",
   "metadata": {},
   "outputs": [
    {
     "data": {
      "text/plain": [
       "['red', 'blue', 'white', 'black', 'pink']"
      ]
     },
     "execution_count": 40,
     "metadata": {},
     "output_type": "execute_result"
    }
   ],
   "source": [
    "l"
   ]
  },
  {
   "cell_type": "code",
   "execution_count": 42,
   "id": "44e266e7-b7e6-4802-9543-f24b469be0a6",
   "metadata": {},
   "outputs": [
    {
     "data": {
      "text/plain": [
       "list"
      ]
     },
     "execution_count": 42,
     "metadata": {},
     "output_type": "execute_result"
    }
   ],
   "source": [
    "type(l)"
   ]
  },
  {
   "cell_type": "code",
   "execution_count": 44,
   "id": "1d870a41-26b0-40bb-a7bf-2b3029b52a3c",
   "metadata": {},
   "outputs": [
    {
     "data": {
      "text/plain": [
       "('red', 'blue', 'white', 'black', 'pink')"
      ]
     },
     "execution_count": 44,
     "metadata": {},
     "output_type": "execute_result"
    }
   ],
   "source": [
    "tuple(l)"
   ]
  },
  {
   "cell_type": "code",
   "execution_count": null,
   "id": "f024fd47-6a43-4b17-a3fc-a8b714cbac31",
   "metadata": {},
   "outputs": [],
   "source": [
    "4. Dictionary Practice:\n",
    "o Define a dictionary for a library system with book titles as keys and available\n",
    "copies as values.\n",
    "o Update the count of a specific book after it is borrowed.\n",
    "o Add a new book to the dictionary and print the updated dictionary.\n"
   ]
  },
  {
   "cell_type": "code",
   "execution_count": 18,
   "id": "b6ef91cb-ca45-4fe1-b6a4-f20207216d49",
   "metadata": {},
   "outputs": [],
   "source": [
    "book = {'hindi': 6,'physics': 7,'biology': 9}"
   ]
  },
  {
   "cell_type": "code",
   "execution_count": 20,
   "id": "d45ed3a8-2e5f-4b3f-ac70-3f210abea641",
   "metadata": {},
   "outputs": [
    {
     "data": {
      "text/plain": [
       "{'hindi': 6, 'physics': 7, 'biology': 9}"
      ]
     },
     "execution_count": 20,
     "metadata": {},
     "output_type": "execute_result"
    }
   ],
   "source": [
    "book"
   ]
  },
  {
   "cell_type": "code",
   "execution_count": 22,
   "id": "85b1077c-35a1-4caf-a71e-94894e54679d",
   "metadata": {},
   "outputs": [
    {
     "data": {
      "text/plain": [
       "dict"
      ]
     },
     "execution_count": 22,
     "metadata": {},
     "output_type": "execute_result"
    }
   ],
   "source": [
    "type(book)"
   ]
  },
  {
   "cell_type": "code",
   "execution_count": 24,
   "id": "f3cb0792-8df6-4e6e-a539-b23ecd13768b",
   "metadata": {},
   "outputs": [
    {
     "data": {
      "text/plain": [
       "dict_keys(['hindi', 'physics', 'biology'])"
      ]
     },
     "execution_count": 24,
     "metadata": {},
     "output_type": "execute_result"
    }
   ],
   "source": [
    "book.keys()"
   ]
  },
  {
   "cell_type": "code",
   "execution_count": 26,
   "id": "5a08b7cf-9834-40ca-89ae-7ad23ac3139d",
   "metadata": {},
   "outputs": [
    {
     "data": {
      "text/plain": [
       "dict_values([6, 7, 9])"
      ]
     },
     "execution_count": 26,
     "metadata": {},
     "output_type": "execute_result"
    }
   ],
   "source": [
    "book.values()"
   ]
  },
  {
   "cell_type": "code",
   "execution_count": 28,
   "id": "d1761c8e-8db9-4dad-945d-8bfdc4ce22a3",
   "metadata": {},
   "outputs": [
    {
     "data": {
      "text/plain": [
       "9"
      ]
     },
     "execution_count": 28,
     "metadata": {},
     "output_type": "execute_result"
    }
   ],
   "source": [
    "book['biology']"
   ]
  },
  {
   "cell_type": "code",
   "execution_count": 30,
   "id": "19e751c7-ee3c-4e7d-be67-40b2b24e808f",
   "metadata": {},
   "outputs": [],
   "source": [
    "book['biology'] = 4"
   ]
  },
  {
   "cell_type": "code",
   "execution_count": 32,
   "id": "3f0f460f-8fd8-4a53-96c7-f37d90aee61c",
   "metadata": {},
   "outputs": [
    {
     "data": {
      "text/plain": [
       "{'hindi': 6, 'physics': 7, 'biology': 4}"
      ]
     },
     "execution_count": 32,
     "metadata": {},
     "output_type": "execute_result"
    }
   ],
   "source": [
    "book"
   ]
  },
  {
   "cell_type": "code",
   "execution_count": 39,
   "id": "e9e78abb-f484-42d3-b526-d24e5cc7e4f6",
   "metadata": {},
   "outputs": [],
   "source": [
    "book.update({'maths': 5})"
   ]
  },
  {
   "cell_type": "code",
   "execution_count": 41,
   "id": "04a380fc-758f-4b30-9ed5-89457f9e79b7",
   "metadata": {},
   "outputs": [
    {
     "data": {
      "text/plain": [
       "{'hindi': 6, 'physics': 7, 'biology': 4, 'maths': 5}"
      ]
     },
     "execution_count": 41,
     "metadata": {},
     "output_type": "execute_result"
    }
   ],
   "source": [
    "book"
   ]
  },
  {
   "cell_type": "markdown",
   "id": "7ad0d639-0d19-4122-b706-540096ddd492",
   "metadata": {},
   "source": [
    "o What is the difference between int and float data types?\n",
    "o Describe the difference between mutable and immutable data types."
   ]
  },
  {
   "cell_type": "markdown",
   "id": "05320326-dbcb-43ef-90c2-d63cf304f439",
   "metadata": {},
   "source": [
    "The main difference between integer and float data type is-\n",
    "integer is a whole number while in float data types decimal \n",
    "numbers are present"
   ]
  },
  {
   "cell_type": "code",
   "execution_count": 43,
   "id": "8af89642-a07e-4276-b961-5dbd26c90c18",
   "metadata": {},
   "outputs": [],
   "source": [
    "l =[77,79,80,84]"
   ]
  },
  {
   "cell_type": "code",
   "execution_count": 46,
   "id": "5c66125d-341c-4902-8fa8-00024ac2450b",
   "metadata": {},
   "outputs": [
    {
     "data": {
      "text/plain": [
       "list"
      ]
     },
     "execution_count": 46,
     "metadata": {},
     "output_type": "execute_result"
    }
   ],
   "source": [
    "type(l)"
   ]
  },
  {
   "cell_type": "code",
   "execution_count": 48,
   "id": "ae6a82c1-42ea-4905-b051-75965f297a57",
   "metadata": {},
   "outputs": [
    {
     "data": {
      "text/plain": [
       "int"
      ]
     },
     "execution_count": 48,
     "metadata": {},
     "output_type": "execute_result"
    }
   ],
   "source": [
    "type(77)"
   ]
  },
  {
   "cell_type": "code",
   "execution_count": 53,
   "id": "1edfb9c4-ff75-49dd-bdb1-8ee2c094f554",
   "metadata": {},
   "outputs": [],
   "source": [
    "list1 = [3.2,3.3,3,4]"
   ]
  },
  {
   "cell_type": "code",
   "execution_count": 55,
   "id": "88b59a63-1256-4b35-b9e5-67a62625ccfa",
   "metadata": {},
   "outputs": [
    {
     "data": {
      "text/plain": [
       "list"
      ]
     },
     "execution_count": 55,
     "metadata": {},
     "output_type": "execute_result"
    }
   ],
   "source": [
    "type(list1)"
   ]
  },
  {
   "cell_type": "code",
   "execution_count": 60,
   "id": "36c57344-398d-40ee-9bab-b6a055e6a90a",
   "metadata": {},
   "outputs": [
    {
     "data": {
      "text/plain": [
       "float"
      ]
     },
     "execution_count": 60,
     "metadata": {},
     "output_type": "execute_result"
    }
   ],
   "source": [
    "type(3.3)"
   ]
  },
  {
   "cell_type": "code",
   "execution_count": null,
   "id": "527e9f9d-c1a3-480c-9090-0644dfaa7d5e",
   "metadata": {},
   "outputs": [],
   "source": []
  }
 ],
 "metadata": {
  "kernelspec": {
   "display_name": "Python 3 (ipykernel)",
   "language": "python",
   "name": "python3"
  },
  "language_info": {
   "codemirror_mode": {
    "name": "ipython",
    "version": 3
   },
   "file_extension": ".py",
   "mimetype": "text/x-python",
   "name": "python",
   "nbconvert_exporter": "python",
   "pygments_lexer": "ipython3",
   "version": "3.12.7"
  }
 },
 "nbformat": 4,
 "nbformat_minor": 5
}
