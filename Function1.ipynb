{
 "cells": [
  {
   "cell_type": "code",
   "execution_count": 1,
   "id": "91606df9-94e8-42fc-b13c-44e5b240458f",
   "metadata": {},
   "outputs": [
    {
     "name": "stdout",
     "output_type": "stream",
     "text": [
      "1 You are student\n",
      "3 You are student\n",
      "5 You are student\n",
      "7 You are student\n",
      "9 You are student\n",
      "11 You are student\n",
      "13 You are student\n",
      "15 You are student\n",
      "17 You are student\n"
     ]
    }
   ],
   "source": [
    "age = 1\n",
    "while age < 18:\n",
    "    print(age, 'You are student')\n",
    "    age = age + 2"
   ]
  },
  {
   "cell_type": "code",
   "execution_count": 3,
   "id": "161aad0b-a89f-4584-b076-ac4405e6bc46",
   "metadata": {},
   "outputs": [
    {
     "name": "stdout",
     "output_type": "stream",
     "text": [
      "1 You are student\n",
      "2 You are student\n",
      "3 You are student\n",
      "4 You are student\n",
      "5 You are student\n",
      "6 You are student\n",
      "7 You are student\n",
      "8 You are student\n",
      "9 You are student\n",
      "10 You are student\n",
      "11 You are student\n",
      "12 You are student\n",
      "13 You are student\n",
      "14 You are student\n",
      "15 You are student\n",
      "16 You are student\n",
      "17 You are student\n"
     ]
    }
   ],
   "source": [
    "age = 1\n",
    "while age < 18:\n",
    "    print(age, 'You are student')\n",
    "    age = age + 1"
   ]
  },
  {
   "cell_type": "code",
   "execution_count": 5,
   "id": "08c15d67-e665-42ca-a669-596239e7eb0d",
   "metadata": {},
   "outputs": [],
   "source": [
    "def test():\n",
    "    print('I am function')"
   ]
  },
  {
   "cell_type": "code",
   "execution_count": 7,
   "id": "eb8a0a5e-b778-4993-a00f-4d84669d577d",
   "metadata": {},
   "outputs": [
    {
     "name": "stdout",
     "output_type": "stream",
     "text": [
      "I am function\n"
     ]
    }
   ],
   "source": [
    "test()"
   ]
  },
  {
   "cell_type": "code",
   "execution_count": 9,
   "id": "de086702-0e92-433f-9fdd-07588b94d65c",
   "metadata": {},
   "outputs": [],
   "source": [
    "l =[1,2,3,4,5]"
   ]
  },
  {
   "cell_type": "code",
   "execution_count": 12,
   "id": "56f51c4b-20aa-42c4-a93e-97a9d0583c6b",
   "metadata": {},
   "outputs": [
    {
     "data": {
      "text/plain": [
       "5"
      ]
     },
     "execution_count": 12,
     "metadata": {},
     "output_type": "execute_result"
    }
   ],
   "source": [
    "len(l)"
   ]
  },
  {
   "cell_type": "code",
   "execution_count": 43,
   "id": "571dec90-23cc-4bbf-b8b8-fe2eafdc0794",
   "metadata": {},
   "outputs": [],
   "source": [
    "def sum(x,y):\n",
    "    \"\"\"This is sum function.\n",
    "    Sum function is going to add x and y.\n",
    "    You have to pass values for x and y.\"\"\"\n",
    "    print(x+y)"
   ]
  },
  {
   "cell_type": "raw",
   "id": "9d0de29f-a7c4-4308-981f-dd07270fbca7",
   "metadata": {},
   "source": [
    "# How to write description/docks"
   ]
  },
  {
   "cell_type": "code",
   "execution_count": 47,
   "id": "5166e612-791f-4d82-91bd-4f1d5fdab9f6",
   "metadata": {},
   "outputs": [
    {
     "name": "stdout",
     "output_type": "stream",
     "text": [
      "6\n"
     ]
    }
   ],
   "source": [
    "sum(1,5)"
   ]
  },
  {
   "cell_type": "code",
   "execution_count": 35,
   "id": "e7d3b720-cff0-4b54-90df-86a8479657e6",
   "metadata": {},
   "outputs": [],
   "source": [
    "def banner():\n",
    "    print('This is a banner of data science.')"
   ]
  },
  {
   "cell_type": "code",
   "execution_count": 37,
   "id": "b5861ee3-839a-431c-a3ef-d6cfd325a4e5",
   "metadata": {},
   "outputs": [
    {
     "name": "stdout",
     "output_type": "stream",
     "text": [
      "This is a banner of data science.\n"
     ]
    }
   ],
   "source": [
    "banner()"
   ]
  },
  {
   "cell_type": "code",
   "execution_count": 49,
   "id": "b1d8466b-d1ac-4a05-aa94-be59041b72bc",
   "metadata": {},
   "outputs": [
    {
     "name": "stdout",
     "output_type": "stream",
     "text": [
      "I am function\n"
     ]
    }
   ],
   "source": [
    "test()"
   ]
  },
  {
   "cell_type": "code",
   "execution_count": 51,
   "id": "6a325c54-7834-401c-938c-af495597cd53",
   "metadata": {},
   "outputs": [
    {
     "name": "stdout",
     "output_type": "stream",
     "text": [
      "6\n"
     ]
    },
    {
     "data": {
      "text/plain": [
       "NoneType"
      ]
     },
     "execution_count": 51,
     "metadata": {},
     "output_type": "execute_result"
    }
   ],
   "source": [
    "type(sum(1,5))"
   ]
  },
  {
   "cell_type": "code",
   "execution_count": 53,
   "id": "d5e90692-5e9f-4960-9da9-99a4e664bbaf",
   "metadata": {},
   "outputs": [],
   "source": [
    "def addition(x,y):\n",
    "    return x + y"
   ]
  },
  {
   "cell_type": "code",
   "execution_count": 55,
   "id": "d33f6087-7373-4a1e-ad42-8ef70910711a",
   "metadata": {},
   "outputs": [
    {
     "data": {
      "text/plain": [
       "174"
      ]
     },
     "execution_count": 55,
     "metadata": {},
     "output_type": "execute_result"
    }
   ],
   "source": [
    "addition(76,98)"
   ]
  },
  {
   "cell_type": "code",
   "execution_count": 57,
   "id": "4476ee37-39e0-47cb-8b64-33636dd991f9",
   "metadata": {},
   "outputs": [
    {
     "data": {
      "text/plain": [
       "int"
      ]
     },
     "execution_count": 57,
     "metadata": {},
     "output_type": "execute_result"
    }
   ],
   "source": [
    "type(addition(76,98))"
   ]
  },
  {
   "cell_type": "code",
   "execution_count": 59,
   "id": "9463e96f-ec2f-4c7a-955c-3919da2a7ad9",
   "metadata": {},
   "outputs": [],
   "source": [
    "def sum(x,y):\n",
    "    return x + y\n"
   ]
  },
  {
   "cell_type": "code",
   "execution_count": 61,
   "id": "ea918fae-00dd-47dc-9251-6eac79950c3f",
   "metadata": {},
   "outputs": [
    {
     "data": {
      "text/plain": [
       "112"
      ]
     },
     "execution_count": 61,
     "metadata": {},
     "output_type": "execute_result"
    }
   ],
   "source": [
    "sum(45,67)"
   ]
  },
  {
   "cell_type": "code",
   "execution_count": 63,
   "id": "ef7620ab-5542-4afd-9924-539a84c264ab",
   "metadata": {},
   "outputs": [
    {
     "data": {
      "text/plain": [
       "int"
      ]
     },
     "execution_count": 63,
     "metadata": {},
     "output_type": "execute_result"
    }
   ],
   "source": [
    "type(sum(45,67))"
   ]
  },
  {
   "cell_type": "raw",
   "id": "130a1ae8-ea00-44b2-9ce3-2d3e33cf2211",
   "metadata": {},
   "source": [
    "#diff between print and return?\n",
    "  in sum operation if we check the type of print operation then it is nonetype and in return operation it is integer type."
   ]
  },
  {
   "cell_type": "code",
   "execution_count": 68,
   "id": "4c00212c-b8ef-4a0d-8884-46424fe1badc",
   "metadata": {},
   "outputs": [],
   "source": [
    "def multiplication(x,y):\n",
    "    print (x * y) \n"
   ]
  },
  {
   "cell_type": "code",
   "execution_count": 70,
   "id": "0c8330fd-fc9c-4f06-8340-2b825bad1063",
   "metadata": {},
   "outputs": [
    {
     "name": "stdout",
     "output_type": "stream",
     "text": [
      "3496\n"
     ]
    }
   ],
   "source": [
    "multiplication(76,46)"
   ]
  },
  {
   "cell_type": "code",
   "execution_count": 72,
   "id": "6f80d42d-d7eb-488e-b46e-5df184f0adae",
   "metadata": {},
   "outputs": [
    {
     "name": "stdout",
     "output_type": "stream",
     "text": [
      "3496\n"
     ]
    },
    {
     "data": {
      "text/plain": [
       "NoneType"
      ]
     },
     "execution_count": 72,
     "metadata": {},
     "output_type": "execute_result"
    }
   ],
   "source": [
    "type(multiplication(76,46))"
   ]
  },
  {
   "cell_type": "code",
   "execution_count": 88,
   "id": "6f495ff4-1530-43ce-b6fa-16a04934ae4d",
   "metadata": {},
   "outputs": [],
   "source": [
    "def multiplication(x,y):\n",
    "    return x * y \n"
   ]
  },
  {
   "cell_type": "code",
   "execution_count": 90,
   "id": "e22ff4f5-b784-4cd7-8943-fcdb8091328b",
   "metadata": {},
   "outputs": [
    {
     "data": {
      "text/plain": [
       "6840"
      ]
     },
     "execution_count": 90,
     "metadata": {},
     "output_type": "execute_result"
    }
   ],
   "source": [
    "multiplication(90,76)"
   ]
  },
  {
   "cell_type": "code",
   "execution_count": 92,
   "id": "7cefe9d1-5aa0-447e-b1e8-789d1995cf0c",
   "metadata": {},
   "outputs": [
    {
     "data": {
      "text/plain": [
       "int"
      ]
     },
     "execution_count": 92,
     "metadata": {},
     "output_type": "execute_result"
    }
   ],
   "source": [
    "type(multiplication(90,76))"
   ]
  },
  {
   "cell_type": "code",
   "execution_count": 95,
   "id": "a4d5758f-3f65-405e-8f73-fccef9596226",
   "metadata": {},
   "outputs": [
    {
     "data": {
      "text/plain": [
       "75"
      ]
     },
     "execution_count": 95,
     "metadata": {},
     "output_type": "execute_result"
    }
   ],
   "source": [
    "multiplication(20,3) + addition(9,6)"
   ]
  },
  {
   "cell_type": "code",
   "execution_count": 97,
   "id": "0f8b7564-b2e1-439a-a393-b47b218c51c6",
   "metadata": {},
   "outputs": [
    {
     "data": {
      "text/plain": [
       "int"
      ]
     },
     "execution_count": 97,
     "metadata": {},
     "output_type": "execute_result"
    }
   ],
   "source": [
    "type(multiplication(20,3) + addition(9,6))"
   ]
  },
  {
   "cell_type": "code",
   "execution_count": 99,
   "id": "57f9a801-51fb-4c88-b0e8-e45e33fa4551",
   "metadata": {},
   "outputs": [],
   "source": [
    "def square(x):\n",
    "    return x * x"
   ]
  },
  {
   "cell_type": "code",
   "execution_count": 101,
   "id": "7d879e94-3643-4f9c-afc4-2270fa71f81e",
   "metadata": {},
   "outputs": [
    {
     "data": {
      "text/plain": [
       "1024"
      ]
     },
     "execution_count": 101,
     "metadata": {},
     "output_type": "execute_result"
    }
   ],
   "source": [
    "square(32)"
   ]
  },
  {
   "cell_type": "code",
   "execution_count": 103,
   "id": "2b4a53fb-91ca-4b3a-aa79-4b8661a8c780",
   "metadata": {},
   "outputs": [
    {
     "data": {
      "text/plain": [
       "int"
      ]
     },
     "execution_count": 103,
     "metadata": {},
     "output_type": "execute_result"
    }
   ],
   "source": [
    "type(square(32))"
   ]
  },
  {
   "cell_type": "code",
   "execution_count": 106,
   "id": "99c06feb-0e9d-4e44-8c15-0a8c10b693f8",
   "metadata": {},
   "outputs": [],
   "source": [
    "def square(x):\n",
    "    print(x * x)"
   ]
  },
  {
   "cell_type": "code",
   "execution_count": 108,
   "id": "bf17f34d-988d-487a-bcb7-89601e9109cd",
   "metadata": {},
   "outputs": [
    {
     "name": "stdout",
     "output_type": "stream",
     "text": [
      "81\n"
     ]
    }
   ],
   "source": [
    "square(9)"
   ]
  },
  {
   "cell_type": "code",
   "execution_count": 110,
   "id": "f597ad54-e145-46d0-b361-7fa7ebe1cc1a",
   "metadata": {},
   "outputs": [
    {
     "name": "stdout",
     "output_type": "stream",
     "text": [
      "81\n"
     ]
    },
    {
     "data": {
      "text/plain": [
       "NoneType"
      ]
     },
     "execution_count": 110,
     "metadata": {},
     "output_type": "execute_result"
    }
   ],
   "source": [
    "type(square(9))"
   ]
  },
  {
   "cell_type": "raw",
   "id": "64bd2a1b-3ab5-48d3-b085-4f9424b11623",
   "metadata": {},
   "source": [
    "# function for checking number is even or odd"
   ]
  },
  {
   "cell_type": "code",
   "execution_count": 112,
   "id": "68237868-a0d6-47d9-aec6-2ae09b476f78",
   "metadata": {},
   "outputs": [],
   "source": [
    "def even_odd(a):\n",
    "    if a % 2 == 0:\n",
    "        return 'Number is even', a\n",
    "    else:\n",
    "         return 'Number is odd', a\n"
   ]
  },
  {
   "cell_type": "code",
   "execution_count": 114,
   "id": "e5db196e-11f0-4cdf-b08b-cd02fadb08b3",
   "metadata": {},
   "outputs": [
    {
     "data": {
      "text/plain": [
       "('Number is odd', 5)"
      ]
     },
     "execution_count": 114,
     "metadata": {},
     "output_type": "execute_result"
    }
   ],
   "source": [
    "even_odd(5)"
   ]
  },
  {
   "cell_type": "code",
   "execution_count": 117,
   "id": "2b0c3458-4b6e-4b35-a474-294ace225d7e",
   "metadata": {},
   "outputs": [
    {
     "data": {
      "text/plain": [
       "('Number is odd', 79)"
      ]
     },
     "execution_count": 117,
     "metadata": {},
     "output_type": "execute_result"
    }
   ],
   "source": [
    "even_odd(79)"
   ]
  },
  {
   "cell_type": "code",
   "execution_count": 119,
   "id": "fb1feff1-bc7f-466d-bfd7-6d4d86ee9378",
   "metadata": {},
   "outputs": [],
   "source": [
    "def table(x):\n",
    "    for i in range(1,12):\n",
    "        print(i * x)"
   ]
  },
  {
   "cell_type": "code",
   "execution_count": 121,
   "id": "2c29bbf1-f987-46fc-a246-b29b1529049f",
   "metadata": {},
   "outputs": [
    {
     "name": "stdout",
     "output_type": "stream",
     "text": [
      "2\n",
      "4\n",
      "6\n",
      "8\n",
      "10\n",
      "12\n",
      "14\n",
      "16\n",
      "18\n",
      "20\n",
      "22\n"
     ]
    }
   ],
   "source": [
    "table(2)"
   ]
  },
  {
   "cell_type": "code",
   "execution_count": 124,
   "id": "0698d420-cd11-4f69-80dc-8e0cb1bbaf53",
   "metadata": {
    "scrolled": true
   },
   "outputs": [
    {
     "name": "stdout",
     "output_type": "stream",
     "text": [
      "5\n",
      "10\n",
      "15\n",
      "20\n",
      "25\n",
      "30\n",
      "35\n",
      "40\n",
      "45\n",
      "50\n",
      "55\n"
     ]
    }
   ],
   "source": [
    "table(5)"
   ]
  },
  {
   "cell_type": "code",
   "execution_count": 129,
   "id": "5ff6c6f2-33a4-4019-91fb-44745271860a",
   "metadata": {},
   "outputs": [
    {
     "name": "stdout",
     "output_type": "stream",
     "text": [
      "1\n",
      "2\n",
      "3\n",
      "4\n",
      "5\n",
      "6\n",
      "7\n",
      "8\n",
      "9\n",
      "10\n",
      "11\n"
     ]
    }
   ],
   "source": [
    "for i in range(1,12):\n",
    "    print(i)\n",
    "   "
   ]
  },
  {
   "cell_type": "code",
   "execution_count": null,
   "id": "7c8a00fc-1742-45ed-b03f-fe2017ae6ed7",
   "metadata": {},
   "outputs": [],
   "source": []
  }
 ],
 "metadata": {
  "kernelspec": {
   "display_name": "Python 3 (ipykernel)",
   "language": "python",
   "name": "python3"
  },
  "language_info": {
   "codemirror_mode": {
    "name": "ipython",
    "version": 3
   },
   "file_extension": ".py",
   "mimetype": "text/x-python",
   "name": "python",
   "nbconvert_exporter": "python",
   "pygments_lexer": "ipython3",
   "version": "3.12.7"
  }
 },
 "nbformat": 4,
 "nbformat_minor": 5
}
