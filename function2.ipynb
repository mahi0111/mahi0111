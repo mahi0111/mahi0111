{
 "cells": [
  {
   "cell_type": "code",
   "execution_count": 1,
   "id": "2299989d-d256-43e5-abe1-d2b46b9fc748",
   "metadata": {},
   "outputs": [],
   "source": [
    "def test(x):\n",
    "    if x > 10:\n",
    "        return 'Greater than 10'\n",
    "    else:\n",
    "        return 'Less than 10'"
   ]
  },
  {
   "cell_type": "code",
   "execution_count": 3,
   "id": "bbd74ab3-c9b6-46da-85cc-00b1d166cfd7",
   "metadata": {},
   "outputs": [
    {
     "data": {
      "text/plain": [
       "'Less than 10'"
      ]
     },
     "execution_count": 3,
     "metadata": {},
     "output_type": "execute_result"
    }
   ],
   "source": [
    "test(7)"
   ]
  },
  {
   "cell_type": "code",
   "execution_count": 5,
   "id": "691a27b8-1ec0-4aaa-8517-19553d5d05b3",
   "metadata": {},
   "outputs": [
    {
     "data": {
      "text/plain": [
       "'Less than 10'"
      ]
     },
     "execution_count": 5,
     "metadata": {},
     "output_type": "execute_result"
    }
   ],
   "source": [
    "test(9)"
   ]
  },
  {
   "cell_type": "code",
   "execution_count": 7,
   "id": "b31b6e47-a7f4-4cbd-8dae-5d374f48d5d5",
   "metadata": {},
   "outputs": [
    {
     "data": {
      "text/plain": [
       "'Greater than 10'"
      ]
     },
     "execution_count": 7,
     "metadata": {},
     "output_type": "execute_result"
    }
   ],
   "source": [
    "test(78)"
   ]
  },
  {
   "cell_type": "code",
   "execution_count": 19,
   "id": "0974f8b2-938b-46bb-bead-9aae46fce57c",
   "metadata": {},
   "outputs": [],
   "source": [
    "def test1(a,b,c,d,e):\n",
    "    return a,b,c,d,e"
   ]
  },
  {
   "cell_type": "code",
   "execution_count": 23,
   "id": "47cd5518-d661-4707-ad5a-dd9e8218635f",
   "metadata": {},
   "outputs": [
    {
     "data": {
      "text/plain": [
       "(10, 20, 30, 40, 50)"
      ]
     },
     "execution_count": 23,
     "metadata": {},
     "output_type": "execute_result"
    }
   ],
   "source": [
    "test1(10,20,30,40,50)"
   ]
  },
  {
   "cell_type": "code",
   "execution_count": 25,
   "id": "963ac968-974b-4c86-a665-fc40378e4ff5",
   "metadata": {},
   "outputs": [],
   "source": [
    "l = [1,2,3,4,[20,40,60,80],5,6,7]"
   ]
  },
  {
   "cell_type": "code",
   "execution_count": 27,
   "id": "1b5ec773-d735-4f5d-875f-6d43ce8126b9",
   "metadata": {},
   "outputs": [
    {
     "data": {
      "text/plain": [
       "[1, 2, 3, 4, [20, 40, 60, 80], 5, 6, 7]"
      ]
     },
     "execution_count": 27,
     "metadata": {},
     "output_type": "execute_result"
    }
   ],
   "source": [
    "l"
   ]
  },
  {
   "cell_type": "code",
   "execution_count": 29,
   "id": "7e4f28b5-8fff-415c-97ef-9c481e402da2",
   "metadata": {},
   "outputs": [
    {
     "data": {
      "text/plain": [
       "[20, 40, 60, 80]"
      ]
     },
     "execution_count": 29,
     "metadata": {},
     "output_type": "execute_result"
    }
   ],
   "source": [
    "l[4]"
   ]
  },
  {
   "cell_type": "code",
   "execution_count": null,
   "id": "873c3569-9672-42f6-8631-9fa3f1168b87",
   "metadata": {},
   "outputs": [],
   "source": []
  }
 ],
 "metadata": {
  "kernelspec": {
   "display_name": "Python 3 (ipykernel)",
   "language": "python",
   "name": "python3"
  },
  "language_info": {
   "codemirror_mode": {
    "name": "ipython",
    "version": 3
   },
   "file_extension": ".py",
   "mimetype": "text/x-python",
   "name": "python",
   "nbconvert_exporter": "python",
   "pygments_lexer": "ipython3",
   "version": "3.12.7"
  }
 },
 "nbformat": 4,
 "nbformat_minor": 5
}
