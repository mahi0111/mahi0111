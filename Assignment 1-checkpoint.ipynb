{
 "cells": [
  {
   "cell_type": "markdown",
   "id": "eed12276-487b-40bb-88fd-6850a5ec4272",
   "metadata": {},
   "source": [
    " QUESTIONS NO.1\n",
    "\n",
    "How would you convert one data type to another in python ?\n",
    "For example ,an integer to a string.\n",
    "\n",
    "To convert one data to another in python , you use something\n",
    "calles 'typecasting'.\n",
    "\n",
    "Example - If you have n integer 7 and want to convert into \n",
    "string, we use str() function like this :\n",
    "\n"
   ]
  },
  {
   "cell_type": "code",
   "execution_count": 1,
   "id": "ab57224f-7aae-4b64-99e8-bf4731a94d58",
   "metadata": {},
   "outputs": [],
   "source": [
    "number = 5"
   ]
  },
  {
   "cell_type": "code",
   "execution_count": 4,
   "id": "1d95c83a-0b63-48cc-ad2a-6bcc1b1683fb",
   "metadata": {},
   "outputs": [
    {
     "data": {
      "text/plain": [
       "5"
      ]
     },
     "execution_count": 4,
     "metadata": {},
     "output_type": "execute_result"
    }
   ],
   "source": [
    "number"
   ]
  },
  {
   "cell_type": "code",
   "execution_count": 6,
   "id": "30bce0ae-8c02-4027-96f6-c7881736a728",
   "metadata": {},
   "outputs": [
    {
     "data": {
      "text/plain": [
       "'5'"
      ]
     },
     "execution_count": 6,
     "metadata": {},
     "output_type": "execute_result"
    }
   ],
   "source": [
    "str(number)"
   ]
  },
  {
   "cell_type": "code",
   "execution_count": 8,
   "id": "b28f4686-f500-4905-ae75-5f4652523e97",
   "metadata": {},
   "outputs": [
    {
     "data": {
      "text/plain": [
       "5"
      ]
     },
     "execution_count": 8,
     "metadata": {},
     "output_type": "execute_result"
    }
   ],
   "source": [
    "int('5')"
   ]
  },
  {
   "cell_type": "code",
   "execution_count": 10,
   "id": "c0c2fd88-7572-47dc-8b10-28b36f0dc5ad",
   "metadata": {},
   "outputs": [
    {
     "data": {
      "text/plain": [
       "5.0"
      ]
     },
     "execution_count": 10,
     "metadata": {},
     "output_type": "execute_result"
    }
   ],
   "source": [
    "float(number)"
   ]
  },
  {
   "cell_type": "code",
   "execution_count": 17,
   "id": "8fc0d731-2561-4752-b4b4-cb2ce69e8b6a",
   "metadata": {},
   "outputs": [
    {
     "ename": "TypeError",
     "evalue": "'int' object is not iterable",
     "output_type": "error",
     "traceback": [
      "\u001b[1;31m---------------------------------------------------------------------------\u001b[0m",
      "\u001b[1;31mTypeError\u001b[0m                                 Traceback (most recent call last)",
      "Cell \u001b[1;32mIn[17], line 1\u001b[0m\n\u001b[1;32m----> 1\u001b[0m \u001b[38;5;28mlist\u001b[39m(\u001b[38;5;241m5\u001b[39m)\n",
      "\u001b[1;31mTypeError\u001b[0m: 'int' object is not iterable"
     ]
    }
   ],
   "source": [
    "list(5)"
   ]
  },
  {
   "cell_type": "markdown",
   "id": "6aa64d1b-ec1e-48a0-8a02-40352e3fbc8b",
   "metadata": {},
   "source": [
    "QUESTION NO.2\n",
    "\n",
    "What is the differnce between == and = in python ? \n",
    "\n",
    "   In python ,= is an assingment operator that is used to assign value to a variable.\n",
    "   "
   ]
  },
  {
   "cell_type": "code",
   "execution_count": 19,
   "id": "05d3dde0-f613-457c-a1df-ff0da7f8bf5f",
   "metadata": {},
   "outputs": [],
   "source": [
    "a = 5"
   ]
  },
  {
   "cell_type": "markdown",
   "id": "0690004d-3dc9-4b3a-8277-5e257c9e6028",
   "metadata": {},
   "source": [
    "a       # assigns 5 to a"
   ]
  },
  {
   "cell_type": "markdown",
   "id": "e0a57b5b-6cd6-459e-af67-43357007c1c7",
   "metadata": {},
   "source": [
    "On the other hand ,== is a comparison operator used to check if two values are eual."
   ]
  },
  {
   "cell_type": "code",
   "execution_count": 30,
   "id": "c63116d7-1287-4104-9529-179fd0f8e301",
   "metadata": {},
   "outputs": [
    {
     "ename": "SyntaxError",
     "evalue": "incomplete input (330114907.py, line 1)",
     "output_type": "error",
     "traceback": [
      "\u001b[1;36m  Cell \u001b[1;32mIn[30], line 1\u001b[1;36m\u001b[0m\n\u001b[1;33m    if a == 5:\u001b[0m\n\u001b[1;37m              ^\u001b[0m\n\u001b[1;31mSyntaxError\u001b[0m\u001b[1;31m:\u001b[0m incomplete input\n"
     ]
    }
   ],
   "source": [
    "if a == 5:"
   ]
  },
  {
   "cell_type": "code",
   "execution_count": 28,
   "id": "948ca735-5530-4310-9228-98280701870f",
   "metadata": {},
   "outputs": [
    {
     "name": "stdout",
     "output_type": "stream",
     "text": [
      "a\n"
     ]
    }
   ],
   "source": [
    "print(\"a\")"
   ]
  },
  {
   "cell_type": "markdown",
   "id": "3175bc47-1912-4e04-9e0d-02a500dd1042",
   "metadata": {},
   "source": [
    "Question NO.3\n",
    "\n",
    "How does the modulus operator (%) work in python ?"
   ]
  },
  {
   "cell_type": "markdown",
   "id": "f6076a8f-359d-4d33-aba2-46ff85842b31",
   "metadata": {},
   "source": [
    "The modulus operator (%) returns the reminder of a division."
   ]
  },
  {
   "cell_type": "code",
   "execution_count": 34,
   "id": "564f3505-1ae3-4717-b385-c111c790ee4b",
   "metadata": {},
   "outputs": [
    {
     "data": {
      "text/plain": [
       "1"
      ]
     },
     "execution_count": 34,
     "metadata": {},
     "output_type": "execute_result"
    }
   ],
   "source": [
    "10 % 3     # this will give reminder 1."
   ]
  },
  {
   "cell_type": "markdown",
   "id": "10b885b4-7896-4ca3-8624-10b227bee57a",
   "metadata": {},
   "source": [
    "Its useful when you want to chek if a no. is even or odd, \n",
    "among all other thing. \n",
    "EX.="
   ]
  },
  {
   "cell_type": "code",
   "execution_count": 36,
   "id": "c69c4dae-635d-4ae0-8233-dd8737495688",
   "metadata": {},
   "outputs": [
    {
     "data": {
      "text/plain": [
       "0"
      ]
     },
     "execution_count": 36,
     "metadata": {},
     "output_type": "execute_result"
    }
   ],
   "source": [
    "10 % 5    # if no. is even ."
   ]
  },
  {
   "cell_type": "markdown",
   "id": "a4fd0c31-89be-4383-b261-cd3f45385878",
   "metadata": {},
   "source": [
    "Question NO. 4\n",
    "\n",
    "What is the output 3 * \"Hello\" in python ? Explain why?"
   ]
  },
  {
   "cell_type": "code",
   "execution_count": 38,
   "id": "90e5fc8a-e1b6-4c37-a315-81181d82edad",
   "metadata": {},
   "outputs": [
    {
     "data": {
      "text/plain": [
       "'HelloHelloHello'"
      ]
     },
     "execution_count": 38,
     "metadata": {},
     "output_type": "execute_result"
    }
   ],
   "source": [
    "3 * \"Hello\""
   ]
  },
  {
   "cell_type": "markdown",
   "id": "3bb8ce92-6e2d-4820-a0b6-9ef7bed43dfc",
   "metadata": {},
   "source": [
    "In python, multiplying by an integer repeats the string\n",
    "that many times. So \"Hello\" 3 produces \"Hello\" three times in a row."
   ]
  },
  {
   "cell_type": "markdown",
   "id": "8428d8e6-edf0-439a-84f6-cd6318d156ea",
   "metadata": {},
   "source": [
    "Question NO.5\n",
    "\n",
    "What is string concatenation, and how would you do it\n",
    "in python?"
   ]
  },
  {
   "cell_type": "markdown",
   "id": "d0aa8358-cd8e-4068-918a-593ecffd5d00",
   "metadata": {},
   "source": [
    "String concatenation means joining two or more strings\n",
    "together. In python,you do using the + operator."
   ]
  },
  {
   "cell_type": "code",
   "execution_count": 44,
   "id": "f2b5c6a2-32c7-45c1-ac02-8713bd38afe8",
   "metadata": {},
   "outputs": [
    {
     "ename": "SyntaxError",
     "evalue": "invalid syntax (3037863749.py, line 1)",
     "output_type": "error",
     "traceback": [
      "\u001b[1;36m  Cell \u001b[1;32mIn[44], line 1\u001b[1;36m\u001b[0m\n\u001b[1;33m    first name = \"mahi\"\u001b[0m\n\u001b[1;37m          ^\u001b[0m\n\u001b[1;31mSyntaxError\u001b[0m\u001b[1;31m:\u001b[0m invalid syntax\n"
     ]
    }
   ],
   "source": [
    "first name = \"mahi\""
   ]
  },
  {
   "cell_type": "code",
   "execution_count": 42,
   "id": "1454c962-64c6-4f85-8f05-ea6c74754e11",
   "metadata": {},
   "outputs": [
    {
     "ename": "SyntaxError",
     "evalue": "invalid syntax (3506952468.py, line 1)",
     "output_type": "error",
     "traceback": [
      "\u001b[1;36m  Cell \u001b[1;32mIn[42], line 1\u001b[1;36m\u001b[0m\n\u001b[1;33m    last name =\"sirsat\"\u001b[0m\n\u001b[1;37m         ^\u001b[0m\n\u001b[1;31mSyntaxError\u001b[0m\u001b[1;31m:\u001b[0m invalid syntax\n"
     ]
    }
   ],
   "source": [
    "last name =\"sirsat\""
   ]
  },
  {
   "cell_type": "code",
   "execution_count": 48,
   "id": "9415e632-841a-4802-9d8a-f09de85d1adc",
   "metadata": {},
   "outputs": [
    {
     "ename": "SyntaxError",
     "evalue": "invalid syntax (1102159262.py, line 1)",
     "output_type": "error",
     "traceback": [
      "\u001b[1;36m  Cell \u001b[1;32mIn[48], line 1\u001b[1;36m\u001b[0m\n\u001b[1;33m    full name = first name + \"\" + last name\u001b[0m\n\u001b[1;37m         ^\u001b[0m\n\u001b[1;31mSyntaxError\u001b[0m\u001b[1;31m:\u001b[0m invalid syntax\n"
     ]
    }
   ],
   "source": [
    "full name = first name + \"\" + last name"
   ]
  },
  {
   "cell_type": "code",
   "execution_count": 50,
   "id": "28c0a50d-587b-438a-ada6-2ddbdc2b325d",
   "metadata": {},
   "outputs": [
    {
     "ename": "SyntaxError",
     "evalue": "invalid syntax (2744367232.py, line 1)",
     "output_type": "error",
     "traceback": [
      "\u001b[1;36m  Cell \u001b[1;32mIn[50], line 1\u001b[1;36m\u001b[0m\n\u001b[1;33m    last name\u001b[0m\n\u001b[1;37m         ^\u001b[0m\n\u001b[1;31mSyntaxError\u001b[0m\u001b[1;31m:\u001b[0m invalid syntax\n"
     ]
    }
   ],
   "source": [
    "last name"
   ]
  },
  {
   "cell_type": "code",
   "execution_count": 52,
   "id": "7f515874-b590-4474-8e07-22f678f45d07",
   "metadata": {},
   "outputs": [
    {
     "ename": "SyntaxError",
     "evalue": "invalid syntax. Perhaps you forgot a comma? (1609256900.py, line 1)",
     "output_type": "error",
     "traceback": [
      "\u001b[1;36m  Cell \u001b[1;32mIn[52], line 1\u001b[1;36m\u001b[0m\n\u001b[1;33m    print(full name)\u001b[0m\n\u001b[1;37m          ^\u001b[0m\n\u001b[1;31mSyntaxError\u001b[0m\u001b[1;31m:\u001b[0m invalid syntax. Perhaps you forgot a comma?\n"
     ]
    }
   ],
   "source": [
    "print(full name)"
   ]
  },
  {
   "cell_type": "code",
   "execution_count": null,
   "id": "b0a36dc3-9f3d-4307-b2b3-86a0927d5d33",
   "metadata": {},
   "outputs": [],
   "source": []
  }
 ],
 "metadata": {
  "kernelspec": {
   "display_name": "Python 3 (ipykernel)",
   "language": "python",
   "name": "python3"
  },
  "language_info": {
   "codemirror_mode": {
    "name": "ipython",
    "version": 3
   },
   "file_extension": ".py",
   "mimetype": "text/x-python",
   "name": "python",
   "nbconvert_exporter": "python",
   "pygments_lexer": "ipython3",
   "version": "3.12.7"
  }
 },
 "nbformat": 4,
 "nbformat_minor": 5
}
